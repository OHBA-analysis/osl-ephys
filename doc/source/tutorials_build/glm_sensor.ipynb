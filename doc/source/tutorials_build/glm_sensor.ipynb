{
  "cells": [
    {
      "cell_type": "markdown",
      "metadata": {},
      "source": [
        "\n# GLM-Spectrum with MEG Data\n \nIn the previous tutorial we introduced the concepts behind spectrum estimation and how this can be extended with General Linear Modelling. Here, we apply these principles to real MEG datasets. \n \nWe will analyse the power spectra from the Wakeman & Henson face processing dataset used in the preprocessing tutorials. Though this is a task dataset, we will treat it as resting state for the purpose of this analysis.\n \nWe start with some preparation, let's import our modules as make the default font size for figures a little larger.\n"
      ]
    },
    {
      "cell_type": "code",
      "execution_count": null,
      "metadata": {
        "collapsed": false
      },
      "outputs": [],
      "source": [
        "import numpy as np\nfrom scipy import signal\nimport osl_ephys\nimport os\nimport sails\nimport glmtools as glm\nimport mne\nfrom pprint import pprint\n\nimport matplotlib\nfont = {'size' : '18'}\n\nmatplotlib.rc('font', **font)\nimport matplotlib.pyplot as plt"
      ]
    },
    {
      "cell_type": "markdown",
      "metadata": {},
      "source": [
        "## Downloading and importing an example dataset\nWe're going to use two datasets in this practical. One preprocessed MEG dataset to illustrate first-level GLM-Spectrum estimation, and one folder of fitted first level GLM-Spectra to illustrate group-level GLM-Spectra.\n\nThese are both available to download from the osl-ephys Workshop OSF page. The following code cell will download and unzip these files if they don't already exist on your computer. We're assuming that the current working directory of this notebook is the correct place to download the data. If you've already downloaded and unzipped the data by hand, then this cell should just tell you that everythiing is in place!\n\nYou'll need ``osfclient`` to be installed in your python environment for this to work. This should be included as a dependency in the workshop environment\n\n"
      ]
    },
    {
      "cell_type": "code",
      "execution_count": null,
      "metadata": {
        "collapsed": false
      },
      "outputs": [],
      "source": [
        "preprocessed_meg = 'sub-09_ses-meg_task-facerecognition_run-01_meg_preproc_raw.fif'\n\nif not os.path.exists(preprocessed_meg):\n    print('Preprocessed MEG data not found, downloading 160MB...')\n    os.system(f\"osf -p zxb6c fetch GeneralLinearModelling/{preprocessed_meg}\")\nelse:\n    print('Preprocessed data found')\n    \nfl_dir = 'osl-ephys_workshop_glm-spectrum_first-levels'\nfl_base = os.path.join(fl_dir, '{subj}_ses-meg_task-facerecognition_{run}_meg_glm-spec.pkl')\n\nif os.path.exists(fl_dir) and os.path.exists(fl_base.format(subj='sub-01', run='run-01')):\n    first_levels = osl_ephys.utils.Study(fl_base)\n    \n    if len(first_levels.get()) == 96:\n        print('All first levels found')\n    else:\n        print('First levels partially found... something odd has happened')\n    \nelse:\n    print('First-Level GLM-Spectra data not found, downloading 887.4MB...')\n    name = 'osl-ephys_workshop_glm-spectrum_first-levels'\n    os.system(f\"osf -p zxb6c fetch GeneralLinearModelling/{name}.zip\")\n    print('...extracting...')\n    os.system(f\"unzip -o {name}.zip -d {name}\")\n    os.remove(f\"{name}.zip\")\n    first_levels = osl_ephys.utils.Study(fl_base)"
      ]
    },
    {
      "cell_type": "markdown",
      "metadata": {},
      "source": [
        "``preprocessed_meg`` is now a path to a ``fif`` file containing a processed dataset and ``first_levels`` is osl-ephys study object which contains all first-level GLM-Spectra.\n\nLet's get started!\n\n## A single data recording : first-level analysis\nOur first analysis in this tutorial will involve a single MEG recording. We'll fit a separate GLM-Spectrum to each channel of our dataset. Remembering that single GLM-Spectrum already fits a separate GLM for each frequency bin, we see that we can easily end up fitting several hundreds of GLMs on each single dataset.\n\nThe same theory and priniciples from the simulations apply here. We'll plot the standard Welch's perioidogram before briefly explore the effect of changing the sliding window segment length (`nperseg`) on our real dataset. We will then build a more complex model that quantifies trends over time and accounts for how EOG artefacts might appear in our recording.\n\nWe'll start by loading a single file and doing a little preparation. We're going to look at the first dataset from subject nine - but do come back and run through this section after selecting a different dataset to get an idea of between subject variability.\n\n"
      ]
    },
    {
      "cell_type": "code",
      "execution_count": null,
      "metadata": {
        "collapsed": false
      },
      "outputs": [],
      "source": [
        "# Load in a single run from subject 9\nraw = mne.io.read_raw_fif(preprocessed_meg, preload=True)\n\n# Extract and filter the EOG - we'll use this later...\neogs = raw.copy().pick_types(meg=False, eog=True)\neogs = eogs.filter(l_freq=3, h_freq=20, picks='eog').get_data()\n\n# Extract only the gradiometers\nraw = raw.copy().pick_types(meg='grad')\n\n# Remove headshape points - none were recorded on the back of the head and this distorts our topoplots\nmon = raw.get_montage()\nmon.dig = [dd for dd in mon.dig if dd['kind'] < 4]\nraw = raw.set_montage(mon)"
      ]
    },
    {
      "cell_type": "markdown",
      "metadata": {},
      "source": [
        "Let's get started by computing the standard spectrum using Welch's method. The default parameters for ``osl_ephys.glm.glm_spectrum`` do this for us.\n\nWe'll truncate the spectrum to values between 1.5Hz and 95Hz to clip parts of the spectrum that have been affected by bandpass filtering during preprocessing\n\n"
      ]
    },
    {
      "cell_type": "code",
      "execution_count": null,
      "metadata": {
        "collapsed": false
      },
      "outputs": [],
      "source": [
        "glmspec1 = osl_ephys.glm.glm_spectrum(raw, fmin=1.5, fmax=95)"
      ]
    },
    {
      "cell_type": "markdown",
      "metadata": {},
      "source": [
        "The GLM equivalent to this approach is to fit a model with a single constant regressor. Let's take a look at the design matrix to confim that the model is as expected\n\n"
      ]
    },
    {
      "cell_type": "code",
      "execution_count": null,
      "metadata": {
        "collapsed": false
      },
      "outputs": [],
      "source": [
        "fig = glmspec1.design.plot_summary()"
      ]
    },
    {
      "cell_type": "markdown",
      "metadata": {},
      "source": [
        "Good - we have a single regressor and a single contrast.\n\nNext, we can visualise our spectrum. ``osl-ephys`` help us out with this. If we pass in a ``Raw`` object to ``osl_ephys.glm.glm_spectrum`` then the output GLM-Spectrum retains some information about the sensors and data structure. In particular, the GLM-Spectrum output contains a copy of the ``Raw.info`` configuration.\n\n"
      ]
    },
    {
      "cell_type": "code",
      "execution_count": null,
      "metadata": {
        "collapsed": false
      },
      "outputs": [],
      "source": [
        "glmspec1.info"
      ]
    },
    {
      "cell_type": "markdown",
      "metadata": {},
      "source": [
        "This output object can use the sensor information to build intuitive plots of GLM-Spectra computed on sensorspacee datasets. For example, we can plot the power spectrum using ``MNE``'s spatial colour scheme to label sensor positions.\n\n"
      ]
    },
    {
      "cell_type": "code",
      "execution_count": null,
      "metadata": {
        "collapsed": false
      },
      "outputs": [],
      "source": [
        "plt.figure(figsize=(9,6))\nax = plt.subplot(111)\nglmspec1.plot_sensor_spectrum(0, ax=ax, sensor_proj=True)"
      ]
    },
    {
      "cell_type": "markdown",
      "metadata": {},
      "source": [
        "Linear spacings on the x-axis of power spectra can squash the key information into the left hand side of the figure. A square-root frequency axis can decompress things a little by making the series of squares (1, 4, 9, 16, ...) equally spaced on the x-axis. We can adjust our plot to this scaling by specifying ``base=0.5``. \n\n"
      ]
    },
    {
      "cell_type": "code",
      "execution_count": null,
      "metadata": {
        "collapsed": false
      },
      "outputs": [],
      "source": [
        "plt.figure(figsize=(9,6))\nax = plt.subplot(111)\nglmspec1.plot_sensor_spectrum(0, ax=ax, sensor_proj=True, base=0.5)"
      ]
    },
    {
      "cell_type": "markdown",
      "metadata": {},
      "source": [
        "Finally, we can make a ``joint`` plot which includes both the spectrum and a series of topoplots displaying the spatial topography at key frequencies in the spectrum. This is computed using ``plot_joint_spectrum``. Let's visualise the spatial maps at the two prominant peaks around 10.5Hz and 15Hz.\n\n"
      ]
    },
    {
      "cell_type": "code",
      "execution_count": null,
      "metadata": {
        "collapsed": false
      },
      "outputs": [],
      "source": [
        "plt.figure(figsize=(9,6))\nax = plt.subplot(111)\nglmspec1.plot_joint_spectrum(freqs=[10.5, 15], base=0.5, ax=ax)"
      ]
    },
    {
      "cell_type": "markdown",
      "metadata": {},
      "source": [
        "As shown in the simulations, the critical choice for determining the resolution of a sliding window based spectrum is the sliding window length set by ``nperseg``. By default, ``glm_spectrum`` will set the sliding window length to be equivalent to the data sampling rate if a ``Raw`` object is passed as the input - though we can override this default by specifying our own value for ``nperseg``.\n\nLet's compute Welch's periodogram using three different sliding window lengths to see its effect.\n\n"
      ]
    },
    {
      "cell_type": "code",
      "execution_count": null,
      "metadata": {
        "collapsed": false
      },
      "outputs": [],
      "source": [
        "plt.figure(figsize=(18,6))\nplt.subplots_adjust(wspace=0.3)\n\nsample_rate = raw.info['sfreq']\nnpersegs = np.array([sample_rate//2, sample_rate, sample_rate*4], dtype=int)\n\nfor ii in range(3):\n    plt.figure(figsize=(9,6))\n    ax = plt.subplot(111)\n    glmspec1 = osl_ephys.glm.glm_spectrum(raw, fmin=1.5, fmax=95, nperseg=npersegs[ii])\n    glmspec1.plot_joint_spectrum(contrast=0, freqs=[3, 10, 15], ax=ax)\n    ax.set_title('Window Length : {}'.format(npersegs[ii]))"
      ]
    },
    {
      "cell_type": "markdown",
      "metadata": {},
      "source": [
        "As we saw with the simulations, longer window lengths give higher resolution spectrum estimates containing more frequency bins per Hz.\n\nThe default of setting the sliding window length to the sample rate provides a sensible starting point. This will give 1 frequency bin per Hz.\n\n## GLM-Spectrum estimation\nSo far in this tutorial, we've looked at the 'standard' Welch's periodogram method for computing spectra. Next, we're going to explore the utility of the GLM-Spectrum on real data.\n\nLet's start by defining three additional regressors to add into our model. One zero-mean covariate that quantifies a linear trend in time and two non-zero-mean confound regressors that quantify the effect of the EOG channel and the bad segments identified in the dataset.\n\nOur regressors will be processed differently. The zero-mean covariate will be passed into the keyword argument `reg_ztrans` to be z-transformed, whilst the confound regressors are passed into `reg_unitmax` to be scaled between zero and one.\n\n"
      ]
    },
    {
      "cell_type": "code",
      "execution_count": null,
      "metadata": {
        "collapsed": false
      },
      "outputs": [],
      "source": [
        "# Compute a time-series indicating where bad segments appear in the data\nbads = np.zeros((raw.n_times,))\nfor an in raw.annotations:\n    if an['description'].startswith('bad'):\n        start = raw.time_as_index(an['onset'])[0] - raw.first_samp\n        duration = int(an['duration'] * raw.info['sfreq'])\n        bads[start:start+duration] = 1\n\n# Define dictionaries containing the covariate terms\ncovs = {'Linear': np.linspace(0, 1, raw.times.shape[0])}\ncons = {'EOG': np.abs(eogs)[1, :],\n        'BadSegs': bads}\n\n# Compute the GLM-Spectrum\nglmspec2 = osl_ephys.glm.glm_spectrum(raw, fmin=1.5, fmax=95, reg_ztrans=covs, reg_unitmax=cons)\n\n\n# First, let's check the design matrix of our new model.\n\n\n\nfig = glmspec2.design.plot_summary()"
      ]
    },
    {
      "cell_type": "markdown",
      "metadata": {},
      "source": [
        "Our four regressors are present as expected. Note that only the 'Linear' regressor contains any negative values.\n\nWe should also check the y-axis labels here to see the number of observations going into our model fit. This corresponds to the number of sliding window data segments computed in our Short-Time Fourier Transform. In this case, we have quite a long recording with over 900 sliding window segments to use to fit our model. This is plenty for four regressors.\n\nLet's take a look at the GLM cope-spectra for each of the four contrasts. We'll use ``plot_joint_spectrum`` to visualise both the spectrum and the topography of the spectrum at a few key frequencies.\n\n"
      ]
    },
    {
      "cell_type": "code",
      "execution_count": null,
      "metadata": {
        "collapsed": false
      },
      "outputs": [],
      "source": [
        "plt.figure(figsize=(18,15))\nplt.subplots_adjust(wspace=0.3, hspace=0.3)\n\nfor ii in range(4):\n    ax = plt.subplot(2, 2, ii+1)\n    glmspec2.plot_joint_spectrum(contrast=ii, freqs=[3, 10, 15], ax=ax, base=0.5)\n    plt.title(glmspec2.design.contrast_names[ii])"
      ]
    },
    {
      "cell_type": "markdown",
      "metadata": {},
      "source": [
        "Quite a bit to unpack from this plot! Let's break it down.\n\n - The ``'Mean'`` spectrum corresponds to our constant regressor (though this actually computes an intercept as we've included other non-zero regressors in the model - see theory and simulation tutorial for more details). this contains the familiar 1/f-type power spectrum shape with a prominant alpha and beta peak around 10 and 15Hz respectively.\n\n - The ``'Linear'`` regressor has a sharp negative deflection around 9Hz which appears centered around occipital cortex. This suggests that occipital alpha power is decreasing over time during the data recording.\n\n - The ``'EOG'`` confound regressor has largest values at low frequencies around bilateral frontal sensors close to the eyes. Though we have done ICA cleaning on this data, we can see that some residual variabilty in low frequencies can still be associated with eye movements.\n\n - The ``'BadSegs'`` regressor also has its largest values around low frequencies but has a less structured topography than the EOGs.\n\nThe GLM-Spectrum has quantified all these effects in one shot across all sensors and all frequencies. Critically, this is a multiple regression so the parameter esimates for each regressor are partialled from the other regressors and only quantify the unique contribution of that regressor in describing the data.\n\nWe can explore the relationship between our regressors by exploring the 'efficiency' of the design matrix.\n\n\n"
      ]
    },
    {
      "cell_type": "code",
      "execution_count": null,
      "metadata": {
        "collapsed": false
      },
      "outputs": [],
      "source": [
        "fig = glmspec2.design.plot_efficiency()"
      ]
    },
    {
      "cell_type": "markdown",
      "metadata": {},
      "source": [
        "The three subplots of the design efficiency show\n\n- **The correlation matrix** of the model regressors (with the constant term blanked out as it has no variance). There is some feint structure here but no large correlations.\n\n- **The Singular-Value spectrum** of the design matrix (Singular-values are computed by the singular value decomposition and are conceptually similar to eigenvalues in PCA). The profile of singular values indicates how close our design is to being 'low-rank'. A perfectly orthogonal and efficient design will have a flat set of singular values all around 1, where as a low-rank model will have some singular values very close or equal to zero. A low-rank model indicates that certain combinations of the regression parameters will be hard to estimate.  While the statistics we use will account for this by inflating the relevant variances, it is good to be aware when this is happening. For example, this could help stop us from being misled by the results of any affected statistical tests, and in some cases may help motivate a change in the design.\n\n- **The Variance-Inflation Factor** describes the extent to which each regressor can be predicted by the other regressors in the model. Typically, values above 5 (or sometimes 2 if you're being cautious) are taken as an indiction that a regressor might be co-linear with something else in the design matrix.\n\nTogether these factors indicate how 'efficient' our design is - in other words, how well we're going to be able to estimate the parameters of the model. The singular-value spectrum indicates this most closely. If this contains any zeros then there is no matrix inverse of our design, which means our parameter estimates will be 'minimum-norm' estimates. This can be ok, in some cases we might accept inflated variance around our estimates if there is good reason to keep the design matrix as it is. In other case, this is an indication to changes something in the design.\n\nIf you do want to change the design, the correlation matrix and VIF scores indicate where any co-linearity in the model is likely to be. If there are large correlations and VIF values for a particular set of regressors, you may want to consider merging them or removing some of them.\n\nIn this case, we have a pretty well formed design matrix and are happy to continue!\n\n\nSo far, we've only looked at the point estimates of our GLM-Spectra - but we will often want to view the spectrum of t-values for each contrast as well. This accounts for the standard error around the estimate of each parameter. If we have a large parameter estimate that also has a large uncertainty around its value, then this will be reflected in its low t-statistic. In contrast, we may have a small parameter estimate that the model is confident about - this will have a high t-statistic even though the parameter estimate is small.\n\nLet's take a look at the t-value spectra for our four contrasts.\n\n"
      ]
    },
    {
      "cell_type": "code",
      "execution_count": null,
      "metadata": {
        "collapsed": false
      },
      "outputs": [],
      "source": [
        "plt.figure(figsize=(18,15))\nplt.subplots_adjust(wspace=0.3, hspace=0.3)\n\nfor ii in range(4):\n    ax = plt.subplot(2, 2, ii+1)\n    glmspec2.plot_joint_spectrum(contrast=ii, freqs=[3, 10, 15], ax=ax, base=0.5, metric='tstats')\n    plt.title(glmspec2.design.contrast_names[ii])"
      ]
    },
    {
      "cell_type": "markdown",
      "metadata": {},
      "source": [
        "This is quite different to the point estimates in the cope-spectra!\n\nThe mean t-spectrum is now a very strange shape with much of the structure flattened. This is as mean and intercept terms of spectrum estimates will have all positive values. The t-test quantifing whether the point estimate is different form zero is then not very informative..\n\nMuch of the structure in the other three regressors has also flattened a bit. In particular, the large alpha effect in the 'Linear' regressor has pretty much gone - indicating that this estimate had a large standard error.\n\nThe strong frontal effect the low-frequencies of the EOG regressor remains, indicating that this effect is very strong.\n\n## Group analysis - combining multiple datasets\n\nIt is rarely the case that we want to study a single data recording. Though this can be interesting in and of itself, we typically want to combine results across multiple (or many!) recordings to try and identify if there are consistent effects that might generalise to a wider population.\n\nA group analysis serves this purpose. In the context of General Linear Modelling, a group analysis takes in the results from 'first-level' analyses of single datasets and combines them with a 'second-level' or 'group-level' analysis. In the case of our GLM-Spectra, our second level dataset is the set of parameter estimates fitted across all individual recordngs. We describe variability across partcipants in this group dataset with a group design matrix to provide a final set of results.\n\nAs a example - let's say we fit first-level models with 4 regressors across 100 frequencies and 306 sensors. The copes for each first-level result would be a matrix of shape ``(4, 100, 306)``. If our second level analysis combines results across 48 particpants, the first level results would be combined into a group-dataset of shape ``(48, 4, 100, 306)``. A group design matrix might then contain 2 regressors describing between subject variability. So, the final fitted model will be a matrix of shape `(2, 4, 100, 306)` containing (2 group contrasts, 4 first level contrasts, 100 frequencies, 306 sensors).\n\nAs the second level is still just a GLM, the same principles about varability and t-statistics that we saw in the previous section still apply to group analyses.\n\nLet's run a group analysis to illustrate these principles. We start by finding the our datafiles on disk. These files contain first-level GLM-Spectra that have already been fitted for you.\n\n"
      ]
    },
    {
      "cell_type": "code",
      "execution_count": null,
      "metadata": {
        "collapsed": false
      },
      "outputs": [],
      "source": [
        "fl_dir = 'osl-ephys_workshop_glm-spectrum_first-levels'\nfl_base = os.path.join(fl_dir, '{subj}_ses-meg_task-facerecognition_{run}_meg_glm-spec.pkl')\n\nfirst_levels = osl_ephys.utils.Study(fl_base)"
      ]
    },
    {
      "cell_type": "markdown",
      "metadata": {},
      "source": [
        "We can visualise the individual results of the first run of the first 12 subjects. Note that the spectra are extremely variable between recordings. It can be hard to see whether there is anything consistent happening by eye. This is why we need the second group level model.\n\n"
      ]
    },
    {
      "cell_type": "code",
      "execution_count": null,
      "metadata": {
        "collapsed": false
      },
      "outputs": [],
      "source": [
        "run = 'run-01'\n\ncontrast = 0  # The first contrast refers to the 'Constant' regressor\n\nplt.figure(figsize=(18,18))\nplt.subplots_adjust(hspace=0.5)\nfor ii in range(12):\n    subj = 'sub-{}'.format(str(ii+1).zfill(2))\n    fpath = first_levels.get(subj=subj, run=run)[0]\n    \n    glmsp = osl_ephys.glm.read_glm_spectrum(fpath)\n    ax = plt.subplot(3, 4, ii+1)\n    glmsp.plot_sensor_spectrum(contrast=contrast, base=0.5, ax=ax, title=subj)"
      ]
    },
    {
      "cell_type": "markdown",
      "metadata": {},
      "source": [
        "The overall GLM-Spectra are already variable across datasets, but remember that we've modelled 4 regressors the first level. We can also visualse these in the same way.\n\nOur group model will describe how the first level COPEs vary over subjects, at, for example, each sensor and frequency. We're not just looking for consistency in the mean-spectrum, but can also look for group effects of the first-level effect of EOG. Let's take a look at the first level EOG spectra next.\n\n"
      ]
    },
    {
      "cell_type": "code",
      "execution_count": null,
      "metadata": {
        "collapsed": false
      },
      "outputs": [],
      "source": [
        "run = 'run-01'\n\ncontrast = 2  # The third contrast refers to the 'EOG' regressor\n\nplt.figure(figsize=(18,18))\nplt.subplots_adjust(hspace=0.5)\nfor ii in range(12):\n    subj = 'sub-{}'.format(str(ii+1).zfill(2))\n    fpath = first_levels.get(subj=subj, run=run)[0]\n    \n    glmsp = osl_ephys.glm.read_glm_spectrum(fpath)\n    ax = plt.subplot(3, 4, ii+1)\n    glmsp.plot_sensor_spectrum(contrast=contrast, base=0.5, ax=ax, title=subj)"
      ]
    },
    {
      "cell_type": "markdown",
      "metadata": {},
      "source": [
        "Again, there is lot of variability, some runs show a strong positive effect in low frequencies in green/yellow channels (these correspond to frontal sensors). Potentially suggesting that some of the eye movemenet artefact has not been removed during preprocessing.\n\n## Building a group model\n\nNext we're going to specify our group level design matrix. We have 96 datasets in this analysis with 6 data recordings from each of 16 participants. Let's create some vectors in a dictionary that specify which participant and run each recording belongs to..\n\n"
      ]
    },
    {
      "cell_type": "code",
      "execution_count": null,
      "metadata": {
        "collapsed": false
      },
      "outputs": [],
      "source": [
        "group_info = {'subjs': np.repeat(np.arange(16), 6),\n              'runs': np.tile(np.arange(6), 16)}\n\n\n# Our first vector picks out the six runs of each of the 16 participants\nprint(group_info['subjs'])\n\n\n# And the second vector picks out runs 1 to 6 from all participants\nprint(group_info['runs'])"
      ]
    },
    {
      "cell_type": "markdown",
      "metadata": {},
      "source": [
        "We'll use this information to create our design. First, we need to specify a config that outlines how the design matrix will be constructed.\n\nWe'll add a categorical regressor for each participant that models the mean across that participants six runs. A single contrast will combine across all 16 of these regressors to compute a group average. A final zero-mean parametric regressor will describe any effects that change linearly across the six recordings.\n\n"
      ]
    },
    {
      "cell_type": "code",
      "execution_count": null,
      "metadata": {
        "collapsed": false
      },
      "outputs": [],
      "source": [
        "from glmtools.design import DesignConfig\n\nDC = DesignConfig()\n\ngroup_avg_contrast = {}\nfor ii in range(16):\n    DC.add_regressor(name='Subj_{}'.format(ii), rtype='Categorical', datainfo='subjs', codes=ii)\n    group_avg_contrast['Subj_{}'.format(ii)] = 1/16\nDC.add_regressor(name='Run', rtype='Parametric', datainfo='runs', preproc='z')\n\n\nDC.add_contrast(name='GroupAvg', values=group_avg_contrast)\nDC.add_contrast(name='Run', values={'Run': 1})"
      ]
    },
    {
      "cell_type": "markdown",
      "metadata": {},
      "source": [
        "Now we can fit our model! \n\nWe use ``osl_ephys.glm.group_glm_spectrum`` to compute a group model. This takes a list of first-level models (a list of either the models themselves or the file paths of pickle files containing the models) as the first argument. These models are loaded into memory and concatenated to create the group dataset.\n\nWe'll also pass in the design config and the group info, these variables will be combined to make the group design. Finally, the model is fitted and the result returned in an object.\n\n"
      ]
    },
    {
      "cell_type": "code",
      "execution_count": null,
      "metadata": {
        "collapsed": false
      },
      "outputs": [],
      "source": [
        "glmsp = osl_ephys.glm.group_glm_spectrum(first_levels.get(), design_config=DC, datainfo=group_info)"
      ]
    },
    {
      "cell_type": "markdown",
      "metadata": {},
      "source": [
        "Let's explore that in more detail. First, we'll visualise the group design matrix (making some tweaks to the plotting as this is a big design matrix...)\n\n"
      ]
    },
    {
      "cell_type": "code",
      "execution_count": null,
      "metadata": {
        "collapsed": false
      },
      "outputs": [],
      "source": [
        "figargs = {'figsize': (18, 9)}\nwith plt.rc_context({'font.size': 10}):\n    fig = glmsp.design.plot_summary(figargs=figargs)"
      ]
    },
    {
      "cell_type": "markdown",
      "metadata": {},
      "source": [
        "The design matrix has 96 rows as expected, one for each dataset.\n\nWe see our 16 regressors quantifying the mean of the six runs for each particpant and the parametric regressor looking at differences in runs in the final column. The first contrast combines across the 16 mean terms to make a group average and the second contrast simply isolates the final 'run' regressor.\n\nNext we can take a look at the group data.\n\n"
      ]
    },
    {
      "cell_type": "code",
      "execution_count": null,
      "metadata": {
        "collapsed": false
      },
      "outputs": [],
      "source": [
        "print(glmsp.data.data.shape)"
      ]
    },
    {
      "cell_type": "markdown",
      "metadata": {},
      "source": [
        "This is our 4-dimensional group data. We have 96 datasets, 4 first-level contrasts, 204 channels and 101 frequencies in this dataset. \n\nWe can do a quick check to see if any of the 96 datasets are an obvious outlier. The ``plot_outliers`` function computes the variability across the final three dimensions to visualise a vector with one number per dataset. We can see that the variability within each of the 96 datasets is pretty comparable across the group.\n\n"
      ]
    },
    {
      "cell_type": "code",
      "execution_count": null,
      "metadata": {
        "collapsed": false
      },
      "outputs": [],
      "source": [
        "fig = glmsp.data.plot_outliers()\n\n\n# So, we've seen the ingredients. Let's take a look at the group model.\n# \n# The 4-dimensonal array of group results has the expected shape. This is the same as the group data, but the 96 datasets in the first dimension have been reduced to 2 group level contrasts.\n\n\n\nprint(glmsp.model.copes.shape)\n\n\n# The group GLM-Spectra themselves can be visualised using similar figures the first levels. Here we use ``plot_joint_spectrum``` to visualise the group average (group contrast 0) of each of the first level contrasts in turn.\n\n\nplt.figure(figsize=(12,12))\nplt.subplots_adjust(wspace=0.3, hspace=0.4)\n\nfor ii in range(4):\n    ax = plt.subplot(2, 2, ii+1)\n    ylabel = 'Magnitude' if ii == 0 else ''\n    glmsp.plot_joint_spectrum(gcontrast=0, fcontrast=ii, freqs=[3, 10, 15], ax=ax, base=0.5, ylabel=ylabel)"
      ]
    },
    {
      "cell_type": "markdown",
      "metadata": {},
      "source": [
        "There is lots of structure in these group averages. We can see\n\n- The overall average has a familiar 1/f-type slope interrupted by a prominant alpha peak around 9Hz, and a prominant beta peak around 15Hz. The beta peak is very strong as we're analysing a task dataset which includes a motor response. We would likly only see the alpha peak in a normal resting state dataset\n\n- The linear trend response has a broad peak between 5 and 9Hz covering bilateral temporal sensors. This indicates that the low alpha/theta power in these sensors increased over time within each recording.\n\n- The EOG spectrum has a very strong bilateral frontal increase indicating increases in power associated with increased eye movement.\n\n- The bad segments show the strongest response at low frequencies across a range of channels.\n\nA lot going on but these are still only the point estimates of each regressor. We need to look at the t-statistics to get an idea of of the size of any statistical effect.\n\nLet's repeat our plot but using the t-stats rather than the copes.\n\n"
      ]
    },
    {
      "cell_type": "code",
      "execution_count": null,
      "metadata": {
        "collapsed": false
      },
      "outputs": [],
      "source": [
        "plt.figure(figsize=(12,12))\nplt.subplots_adjust(wspace=0.3, hspace=0.4)\n\nfor ii in range(4):\n    ax = plt.subplot(2, 2, ii+1)\n    glmsp.plot_joint_spectrum(gcontrast=0, fcontrast=ii, \n                              freqs=[3, 10, 15], ax=ax, \n                              base=0.5, ylabel='t-stat',\n                              metric='tstats')"
      ]
    },
    {
      "cell_type": "markdown",
      "metadata": {},
      "source": [
        "Again lots of structure, but now we can make a stronger interpretation of the units on the y-axis. These are t-statistics which show the magnitude of an effect as a ratio with its stanard error. t-stats close to zero indicate that any effect is insubstantial compared to its variance.\n\nWe see a broadly similar structure to the point estimates but now can see that the low frequency EOG effect is likely to be very strong. The linear trend and bad-segment effects are still substantial but have much smaller t-statistics.\n\nFinally, we can also explore the extent to which our first level parameter estimates varied across the six runs of each participant. Let's repeat our plot one more time but selecting the second group level contrast.\n\n"
      ]
    },
    {
      "cell_type": "code",
      "execution_count": null,
      "metadata": {
        "collapsed": false
      },
      "outputs": [],
      "source": [
        "plt.figure(figsize=(12,12))\nplt.subplots_adjust(wspace=0.3, hspace=0.4)\n\nfor ii in range(4):\n    ax = plt.subplot(2, 2, ii+1)\n    glmsp.plot_joint_spectrum(gcontrast=1, fcontrast=ii, \n                              freqs=[3, 10, 15], ax=ax, \n                              base=0.5, ylabel='t-stat',\n                              metric='tstats')"
      ]
    },
    {
      "cell_type": "markdown",
      "metadata": {},
      "source": [
        "The t-values here are much smaller but there is some structure. Perhaps the area around alpha in the change over runs of the mean spectrum shows an effect.\n\nTo formally assess an effect we need more than the t-value. It may have been the case that we were just lucky to observe a given effect with our data - but how can we quantify whether an effect was likely to have occured by chance?\n\nWe assess this using non-parametric permutation statistics. This is a numerical method for quantifying how often a particular result could have occured according to a particular null hypothesis. This is a pragmatic approach which simulates models that remove structure in the design matrix in accordance with the null hypothesis. We can compute hundreds or thousands of these null models and place their statistical estimates into a 'null' distrbution. Our observed statistic can then be compared to this null to create an estimate of how likely our result could have happened by chance.\n\nLet's take the group mean of the EOG effect as a specific example. Our null hypthesis is that the GLM-Spectra of the EOG effect is no different from zero. If this were true, we would expect the parameter estimates of the model to be randomly distributed around zero. In turn, if this is true - then flipping the sign of half our first-level parameter estimates will not change the group result.\n\nSo, to assess this, we'll compute a few hundred 'null' models in which we flip the sign of the group-level mean regressor. If the real group mean is not different from zero then its value should fall well within this null distribution. If our real result would be very unlikely to have occurred by chances, then it should fall on the tails of the null distribution.\n\nHere, we show an example permuted design matrix for a single 'null' model.\n\n"
      ]
    },
    {
      "cell_type": "code",
      "execution_count": null,
      "metadata": {
        "collapsed": false
      },
      "outputs": [],
      "source": [
        "perm_design = glm.permutations.permute_design_matrix(glmsp.design, np.arange(16), 'sign-flip')\nfigargs = {'figsize': (18, 9)}\nwith plt.rc_context({'font.size': 10}):\n    fig = perm_design.plot_summary(figargs=figargs)"
      ]
    },
    {
      "cell_type": "markdown",
      "metadata": {},
      "source": [
        "Notice that half our mean regressor values have been flipped. Try running the previous cell multiple times to see how the permutations change.\n\nNow we run our stats themselves. We'll create 250 null models and use cluster statistics to control for multiple comparisons. For each null we will\n\n- Permute the design matrix\n- Re-fit the group model\n- Identify clusters across sensors and frequency\n- Take the largest cluster statistic and add it to the null distribution\n\nThen, we assess significance by\n\n- Computing the observed statistics\n- Finding clusters in the result\n- Comparing the observed cluster statisticis to the null distribution\n- Keeping clusters which fall beyond the 95th percentile of the null.\n\nLet's run the permutations for our group average of the first level EOG effect\n\n"
      ]
    },
    {
      "cell_type": "code",
      "execution_count": null,
      "metadata": {
        "collapsed": false
      },
      "outputs": [],
      "source": [
        "P = osl_ephys.glm.ClusterPermuteGLMSpectrum(glmsp, 0, 2, nperms=50, cluster_forming_threshold=9)\n\n\n# Once the permutations are complete - we can visualise the significant clusters.\nplt.figure(figsize=(9, 9))\nax = plt.subplot(111)\nP.plot_sig_clusters([99], base=0.5, ax=ax)"
      ]
    },
    {
      "cell_type": "markdown",
      "metadata": {},
      "source": [
        "We find a single significant cluster at low frequencies around the frontal sensors.\n\n## Further Reading\n\n  Wakeman, D. G., & Henson, R. N. (2015). A multi-subject, multi-modal human neuroimaging dataset. In Scientific Data (Vol. 2, Issue 1). Springer Science and Business Media LLC. https://doi.org/10.1038/sdata.2015.1 \n\n  Quinn, A. J., Atkinson, L., Gohil, C., Kohl, O., Pitt, J., Zich, C., Nobre, A. C., & Woolrich, M. W. (2022). The GLM-Spectrum: A multilevel framework for spectrum analysis with covariate and confound modelling. Cold Spring Harbor Laboratory. https://doi.org/10.1101/2022.11.14.516449 \n\n"
      ]
    }
  ],
  "metadata": {
    "kernelspec": {
      "display_name": "Python 3",
      "language": "python",
      "name": "python3"
    },
    "language_info": {
      "codemirror_mode": {
        "name": "ipython",
        "version": 3
      },
      "file_extension": ".py",
      "mimetype": "text/x-python",
      "name": "python",
      "nbconvert_exporter": "python",
      "pygments_lexer": "ipython3",
      "version": "3.8.16"
    }
  },
  "nbformat": 4,
  "nbformat_minor": 0
}