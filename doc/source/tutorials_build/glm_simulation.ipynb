{
  "cells": [
    {
      "cell_type": "markdown",
      "metadata": {},
      "source": [
        "\n# Frequency Spectrum Estimation - Simulations & General Linear Models\n\nFrequency-domain analyses of oscillations in electrophysiological recordings of brain activity contain information about rhythms in the underlying neuronal activity. Many aspects of these rhythms are of interest to neuroscientists studying EEG and MEG time series. Many advanced methods for spectrum estimation have been developed in recent years, but the core approach has been the same for many years.\n\nThis tutorial will introduce the concept of power spectrum estimation using the standard approach in electrophysiology: Welch's Periodogram. We will describe this approach with simulations and explore a recent update that merges Welch's method with a General Linear Model to define a GLM-Spectrum.\n\n\n## Getting started\n\nWe start with some preparation, let's import ``numpy``, ``scipy.signal`` and ``osl_ephys`` for analysis and matplotlib for some visulistions.\n"
      ]
    },
    {
      "cell_type": "code",
      "execution_count": null,
      "metadata": {
        "collapsed": false
      },
      "outputs": [],
      "source": [
        "import numpy as np\nfrom scipy import signal\nimport osl_ephys\nimport sails\n\nimport matplotlib\nfont = {'size' : '22'}\n\nmatplotlib.rc('font', **font)\nimport matplotlib.pyplot as plt"
      ]
    },
    {
      "cell_type": "markdown",
      "metadata": {},
      "source": [
        "## Spectrum Estimation\n\nA frequency spectrum is a description of how the variance in a time domain signal can be distributed across a range of frequencies. This is a core analysis approach across science and engineering. The underlying mathematics is built upon the Fourier transform which is one of the fundamental algorithms in signal processing.\n\nThe Fourier transform can then be used to compute a frequency spectrum to describe the signal. The profile of the frequency spectrum describes how energy in the time-domain signal is distrbuted across frequency. \n\nA huge number of resources provide an introductory of power spectra and the Fourier transform. Here are a few for wider reading (after the workshop!)\n\n - [Fourier Transform Wikipedia Page](https://en.wikipedia.org/wiki/Fourier_transform)\n - [Spectral Density Wikipedia Page](https://en.wikipedia.org/wiki/Spectral_density)\n - [But what is the Fourier Transform? A visual introduction. (YouTube)](https://www.youtube.com/watch?v=spUNpyF58BY)\n - [Welch's method for smooth spectral decomposition (YouTube)](https://www.youtube.com/watch?v=YK1F0-3VvQI)\n\n\nIn EEG and MEG analysis, we're typically intrested in using these methods to identify and describe any oscillations that might be present in a time-series. This is performed by many papers in many different analysis but the main computation of the spectrum itself tends to be computed in a consistent way - Welch's Periodogram.\n\nLet's take a look at this standard approach using a simulated signal. \n\nWe define a 10 second signal that is sampled at 128Hz. The signal will have one stationary (constant amplitude) oscillation at 10Hz and one oscillation with decreasing amplitude at 22Hz.\n\n\n"
      ]
    },
    {
      "cell_type": "code",
      "execution_count": null,
      "metadata": {
        "collapsed": false
      },
      "outputs": [],
      "source": [
        "# Define some parameters\nsample_rate = 128\nseconds = 10\ntime = np.linspace(0, seconds, seconds*sample_rate)\n\n# Stationary oscillation\nf1 = np.sin(2*np.pi*10*time)\n# Decreasing amplitude oscillatoin\nf2_amp = np.linspace(1, 0.5, seconds*sample_rate)\nf2 = f2_amp * np.sin(2*np.pi*22*time)\n\n# Final signal\nxx = f1 + f2\n\n# Quick plot\nplt.figure(figsize=(16, 9))\nplt.plot(time, f1+7, 'g')\nplt.plot(time, f2+4, 'm')\nplt.plot(time, xx, 'k')\nplt.xlabel('Time (seconds)')\n# Some annotations\nplt.text(5, 5.5, '+')\nplt.text(5, 2.5, '=')"
      ]
    },
    {
      "cell_type": "markdown",
      "metadata": {},
      "source": [
        "The constant 10Hz oscillation in green mixes with the decaying 22Hz oscillation in magenta to create out final signal in black. We can see a complicated mix of oscillations at the start of the final signal which gradually becomes a single oscillation as the 22Hz amplitude decreases.\n\nLet's take a look at how a Fourier based frequency spectrum would describe this signal. We can compute Welch's periodogram using the ``sails.stft`` library. Many other implementations exist in libraries like ``mne`` and ``scipy.signal`` - we'll use ``sails`` as it contains some convenient options to help us visualise the analysis.\n\n"
      ]
    },
    {
      "cell_type": "code",
      "execution_count": null,
      "metadata": {
        "collapsed": false
      },
      "outputs": [],
      "source": [
        "# Compute the spectrum with Welch's method\nf, pxx = sails.stft.periodogram(xx, nperseg=sample_rate, fs=sample_rate)\n\n# Simple plot\nplt.figure(figsize=(7, 7))\nplt.plot(f, pxx)\nplt.title(\"Welch's method\")\nplt.xlabel('Frequency (Hz)')\nplt.ylabel('Power')"
      ]
    },
    {
      "cell_type": "markdown",
      "metadata": {},
      "source": [
        "We see two clear peaks, one large peak at 10Hz and a smaller peak at 22Hz. The 22Hz peak is smaller due to it's decreasing amplitude in the time-domain.\n\nUnder the hood, Welch's method computes many Fourier transforms on sliding window data segments across the dataset - this is also known as a Short Time Fourier Transform (STFT).\n\nWe can visualise the STFT by stopping the periodogram taking the final average. Let's set ``average=None`` in the periodogram before visualising the STFT and it's average across time.\n\n\n"
      ]
    },
    {
      "cell_type": "code",
      "execution_count": null,
      "metadata": {
        "collapsed": false
      },
      "outputs": [],
      "source": [
        "# Compute the short-time Fourier transform (unaveraged periodogram)\nf, pxx = sails.stft.periodogram(xx, nperseg=sample_rate, fs=sample_rate, average=None)\n\n# Print out some helpful infoo\nt = np.linspace(0, seconds, pxx.shape[0]+2)[1:-1]  # Compute a time vector\nprint('-'*20)\nprint('{} time segments'.format(len(t)))\nprint('{} frequency bins'.format(len(f)))\nprint('{}Hz frequency resolution'.format(np.diff(f)[0]))\nprint('-'*20)\n\n# Simple visualisation\nplt.figure(figsize=(18,9))\nplt.subplot(121)\nplt.pcolormesh(f, t, pxx, cmap='hot_r')\nplt.title(\"STFT\")\nplt.xlabel('Frequency (Hz)')\nplt.ylabel('Time (seconds)')\nplt.subplot(122)\nplt.plot(f, pxx.mean(axis=0))\nplt.title(\"Welch's method\")\nplt.xlabel('Frequency (Hz)')\nplt.ylabel('Power')"
      ]
    },
    {
      "cell_type": "markdown",
      "metadata": {},
      "source": [
        "The critical choice in computing the periodogram is the length of the sliding window. This is set by ``nperseg`` (Number-of-samples PER SEGment - following the ``scipy`` naming convention).\n\nWe've set ``nperseg=sample_rate`` in this example, which is typically a sensible starting point. Let's try a shorter value and see what happens.\n\n"
      ]
    },
    {
      "cell_type": "code",
      "execution_count": null,
      "metadata": {
        "collapsed": false
      },
      "outputs": [],
      "source": [
        "# Compute the short-time Fourier transform (unaveraged periodogram)\nf, pxx = sails.stft.periodogram(xx, nperseg=sample_rate//4, fs=sample_rate, average=None)\n\n# Print out some helpful infoo\nt = np.linspace(0, seconds, pxx.shape[0]+2)[1:-1]  # Compute a time vector\nprint('-'*20)\nprint('{} time segments'.format(len(t)))\nprint('{} frequency bins'.format(len(f)))\nprint('{}Hz frequency resolution'.format(np.diff(f)[0]))\nprint('-'*20)\n\n# Simple visualisation\nplt.figure(figsize=(18,9))\nplt.subplot(121)\nplt.pcolormesh(f, t, pxx, cmap='hot_r')\nplt.title(\"STFT\")\nplt.xlabel('Frequency (Hz)')\nplt.ylabel('Time (seconds)')\nplt.subplot(122)\nplt.plot(f, pxx.mean(axis=0))\nplt.title(\"Welch's method\")\nplt.xlabel('Frequency (Hz)')\nplt.ylabel('Power')"
      ]
    },
    {
      "cell_type": "markdown",
      "metadata": {},
      "source": [
        "We can see several changes here. Firstly, the frequency resolution is much lower. The peaks in the final spectrum look much chunkier as we now only have 1 frequency bin for every 4 Hz. This happens as the FFT can only return as many frequency components as there are samples in a segment - so a shorter segment will have fewer frequency estimates spread over the same range.\n\nSecondly, we have many more time segments. There were 19 in the first example and 79 in the second. This means that we now have fewer time segments in the average, this doesn't make much difference here but can be important in noisy data - more on that later.\n\nLet's try a longer ``nperseg``...\n\n"
      ]
    },
    {
      "cell_type": "code",
      "execution_count": null,
      "metadata": {
        "collapsed": false
      },
      "outputs": [],
      "source": [
        "# Compute the short-time Fourier transform (unaveraged periodogram)\nf, pxx = sails.stft.periodogram(xx, nperseg=sample_rate*3, fs=sample_rate, average=None)\n\n# Print out some helpful infoo\nt = np.linspace(0, seconds, pxx.shape[0]+2)[1:-1]  # Compute a time vector\nprint('-'*20)\nprint('{} time segments'.format(len(t)))\nprint('{} frequency bins'.format(len(f)))\nprint('{}Hz frequency resolution'.format(np.diff(f)[0]))\nprint('-'*20)\n\n# Simple visualisation\nplt.figure(figsize=(18,9))\nplt.subplot(121)\nplt.pcolormesh(f, t, pxx, cmap='hot_r')\nplt.title(\"STFT\")\nplt.xlabel('Frequency (Hz)')\nplt.ylabel('Time (seconds)')\nplt.subplot(122)\nplt.plot(f, pxx.mean(axis=0))\nplt.title(\"Welch's method\")\nplt.xlabel('Frequency (Hz)')\nplt.ylabel('Power')"
      ]
    },
    {
      "cell_type": "markdown",
      "metadata": {},
      "source": [
        "As we'd expect - the longer window results in a higher frequency resolution and fewer windows. There is no right or wrong choice for window length as different analyses may want to emphasise one or the other depending on the hypothesis in question. this trade off between time resolution and frequency resolution just needs to be set to provide a useful representation of the data for the case in hand. We recommend trying a range of values to explore it's effect when first exploring a new dataset.\n\n\n## But what about those dynamics?\n\nWelch's method computes a single spectrum by taking the average across the time-windows. This feels appropriate for the 10Hz signal, but we can see that this may not represent the 22Hz signal well. The standard spectrum gives this peak the appearance of a single amplitude but this is actually the 'average' amplitude across a range of windows.\n\nThe GLM-Spectrum method replaces this simple average with a multiple regression model which provides way to quantify changes in the spectrum across the sliding window time segments.\n\nThe advantage of a GLM-Spectrum is that we can extend the model to describe more than just the mean term. This has a several advantages including some modelling of temporal dynamics and the abililty to accout for covariates and confounds when computing the spectrum.\n\nHere, we define a single covariate regressor describing a linear trend in time and fit GLM-Spectrum with a mean term and the linear trend covariate. We add the linear trend using the `reg_ztrans` keyword argument to `glm_spectrum` this specifies that we're adding a regressor and that we want the values in that regressor to be z-transformed prior to the regression.\n\n\n"
      ]
    },
    {
      "cell_type": "code",
      "execution_count": null,
      "metadata": {
        "collapsed": false
      },
      "outputs": [],
      "source": [
        "# Define our covariate\ncov = {'Linear': np.linspace(-1, 1, seconds*sample_rate)}\n\n# Compute the GLM-Spectrum\nglmsp = osl_ephys.glm.glm_spectrum(xx, nperseg=sample_rate, fs=sample_rate, reg_ztrans=cov)\n\n# Simple visualisation\nplt.figure(figsize=(18,9))\nplt.subplot(121)\nplt.plot(glmsp.f, glmsp.copes[0, :])\nplt.title(\"Mean Cope-Spectrum\")\nplt.xlabel('Frequency (Hz)')\nplt.ylabel('Power')\nplt.subplot(122)\nplt.plot(glmsp.f, glmsp.copes[1, :])\nplt.title(\"Linear Trend Cope-Spectrum\")\nplt.xlabel('Frequency (Hz)')"
      ]
    },
    {
      "cell_type": "markdown",
      "metadata": {},
      "source": [
        "The output GLM-Spectrum now has an extra dimension - the first contains the mean term which is identical to a standard spectrum in this case. The second dimension contains a spectrum of GLM parameter estimates describing the effect of a linear trend across time segments. This is zero for the 10Hz peak as it doesn't change in amplitude over the sliding window time segments - however the 22Hz peak has a large, negative parameter estimate suggesting that it decreases in amplitude over time.\nThis GLM-Spectrum output class contains information about the GLM design matrix and contrasts in ``glmsp.design``, information about the STFT to be modelled in ``glmsp.data`` and the fitted GLM in ``glmsp.model``.\n\nLet's visualise the design matrix.\n\n"
      ]
    },
    {
      "cell_type": "code",
      "execution_count": null,
      "metadata": {
        "collapsed": false
      },
      "outputs": [],
      "source": [
        "fig = glmsp.design.plot_summary()"
      ]
    },
    {
      "cell_type": "markdown",
      "metadata": {},
      "source": [
        "The top part of this figure contains the design matrix. This matrix is built from the input covariates. It contains one column predictor and one row per sliding window time segment in the STFT. The table at the bottom contains contrasts. These are linear weightings between regressors that can be useful for comparing parameter estimates. In this case (and for this whole tutorial) we'll keep things simple and use simple contrasts that isolate each regressor one at a time.\n\n``glmspec.model.betas`` contains the fitted parameter estimates of the GLM-Spectrum. This uses the design matrix above to predict the power of the STFT across sliding windows. A separate GLM is fitted for each frequency bin in the STFT, so we end up with a spectrum of parameter estimates for each regressor.\n\nLet's take a look:\n\n"
      ]
    },
    {
      "cell_type": "code",
      "execution_count": null,
      "metadata": {
        "collapsed": false
      },
      "outputs": [],
      "source": [
        "plt.figure(figsize=(9, 6))\nplt.pcolormesh(glmsp.f, np.arange(1,3), glmsp.model.betas)\nplt.yticks([1,2])\nplt.colorbar()\nplt.ylabel('Regressors')\nplt.xlabel('Frequency (Hz)')\nplt.yticks([1,2], ['Mean', 'Linear Trend'])\nplt.title('Beta Spectrum Estimates')\n\n\n# We can combine the design matrix and model parameters to compute model predictions. Here we compute the predicted spectral power at 22Hz for each time segment.\n\n\n\nx = glmsp.design.design_matrix[:, 1]\n\nfreq_idx = 22\n\nmean = glmsp.model.betas[0, freq_idx]\nslope = glmsp.model.betas[1, freq_idx]\n\ny = mean + x * slope\n\nplt.figure(figsize=(9, 9))\nplt.plot(glmsp.design.design_matrix[:, 1], glmsp.data.data[:, freq_idx], '.')\nplt.plot(x, y)\nplt.legend(['22Hz Power over time', 'Model Prediction'])\nplt.xlabel('Time (demeaned)')\nplt.ylabel('Power')\nplt.title('GLM-Spectrum model fit')\nplt.ylim(-0.05, 0.35)"
      ]
    },
    {
      "cell_type": "markdown",
      "metadata": {},
      "source": [
        "We can see that the model prediction is a reasonable fit to the data. Try rerunning this cell with a different frequency index - we didn't simulate a linear trend for any other frequencies, so what would you expect to see? \n\n\n## Once more, with noise\nThis is all great but we're missing a critical ingredient from real data - Noise. Data recordings aren't sine waves so they can only be so instructive for real data analysis.\n\nLet's modify out simulation to include some noise and, to be even more realistic, let's make somme high frequency noise that changes over time. We'll also compute a longer time series of 100 seconds, rather than just 10.\n\nWe compute our noise by computing the gradient (difference between adjacent time points) of some normally distribiuted white noise. The white noise will have a constant power spectrum across all frequencies. The gradient operation removes some of the slower drifts in the noise as it keeps only the difference between adjacent time-points and discards trends across many time points. This is a quick, convenient way of simulating noise with relatively high frequency activity.\n\nLet's generate our data.\n\n"
      ]
    },
    {
      "cell_type": "code",
      "execution_count": null,
      "metadata": {
        "collapsed": false
      },
      "outputs": [],
      "source": [
        "# Define some \nsample_rate = 128\nseconds = 100\ntime = np.linspace(0, seconds, seconds*sample_rate)\n\n# Stationary oscillation\nf1 = np.sin(2*np.pi*10*time)\n# Decreasing amplitude oscillatoin\nf2_amp = np.linspace(1, 0.5, seconds*sample_rate)\nf2 = f2_amp * np.sin(2*np.pi*22*time)\n\n# Final signal\nxx = f1 + f2\n\n# Add some high-frequency noise which changes over time.\nnp.random.seed(42)\nnoise_ratio = 1\nnoise = np.gradient(np.random.randn(*xx.shape) * xx.std()*noise_ratio)\nnoise_freq = 0.1\nartefact_amp = np.cos(2*np.pi*noise_freq*time + np.pi) + 1\nyy = xx + artefact_amp*noise\n\n# And a little bit of normal white noise\nnoise2 = np.random.randn(*xx.shape) * 0.25\nyy = yy + noise2\n\n# Quick plot\nplt.figure(figsize=(16, 9))\nplt.plot(time, f1+12, 'g')\nplt.plot(time, f2+9, 'm')\nplt.plot(time, artefact_amp*noise+5)\nplt.plot(time, yy-4, 'k')\nplt.xlabel('Time (seconds)')\n# Some annotations\nplt.text(10, 10.25, '+')\nplt.text(10, 7.25, '+')\nplt.text(10, 1.5, '=')\nplt.xlim(0, 25)"
      ]
    },
    {
      "cell_type": "markdown",
      "metadata": {},
      "source": [
        "Our 10Hz and 22Hz oscillations behave as before, but our new noise component in blue dominates several parts of the signal. Note that we're only visualising the first 20 seconds of the 100 second simulation - change the ``xlim`` parameter to zoom in or out of the dataset.\n\nThis is likely to impact our spectrum estimate - let's take a look by recomputing our GLM-Spectrum. Remember that we're fitting model with two regressors, one constant term and one z-transformed linear trend.\n\n"
      ]
    },
    {
      "cell_type": "code",
      "execution_count": null,
      "metadata": {
        "collapsed": false
      },
      "outputs": [],
      "source": [
        "cov = {'Linear': np.linspace(-1, 1, seconds*sample_rate)}\nglmsp = osl_ephys.glm.glm_spectrum(yy, nperseg=sample_rate, fs=sample_rate, \n                             mode='magnitude', reg_ztrans=cov)\n\nplt.figure(figsize=(18, 9))\nplt.subplot(121)\nplt.plot(glmsp.f, glmsp.copes[0, :])\nplt.title(\"Mean Cope-Spectrum\")\nplt.xlabel('Frequency (Hz)')\nplt.ylabel('Power')\nplt.subplot(122)\nplt.plot(glmsp.f, glmsp.copes[1, :])\nplt.title(\"Linear Trend Cope-Spectrum\")\nplt.xlabel('Frequency (Hz)')"
      ]
    },
    {
      "cell_type": "markdown",
      "metadata": {},
      "source": [
        "Our oscillatory peaks are still visible but there is now a noisy background to our spectrum. Luckily, as we know something about how the noise changes over time, we can add this to our model to try and attenuate its effect.\n\nWe added the linear-trend covariate as a z-transformed regressor (``reg_ztrans``) - this regressor is zero-mean so whilst it models interesting dynamics it does not impact the parameter estimate of the mean term (though it can impact the standard error of that estimate).\n\nIn contrast, we do want the artefact regressor to impact our estimate of the mean term. Specifically, we will add the artefact amplitude as a positive-valued regressor scaled between 0 and 1 (``reg_unitmax``). This additional non-zero mean regressor changes the interpretation of our constant regressor. It no longer models the mean, but the intercept of the overall model. The intercept is the modelled value where all predictors are zero, so this can be interpreted as the mean of the data after having removed the variability explained by the artefact regressor.\n\nOk, let's fit the model and take a look at the design matrix.\n\n"
      ]
    },
    {
      "cell_type": "code",
      "execution_count": null,
      "metadata": {
        "collapsed": false
      },
      "outputs": [],
      "source": [
        "# Define covariates\ncov = {'Linear': np.linspace(-1, 1, seconds*sample_rate)}\ncon = {'Artefact': artefact_amp}\n# Compute GLM-Spectrum\nglmsp = osl_ephys.glm.glm_spectrum(yy, nperseg=sample_rate, fs=sample_rate,\n                             mode='magnitude', reg_ztrans=cov, reg_unitmax=con)\n\nfig = glmsp.design.plot_summary()"
      ]
    },
    {
      "cell_type": "markdown",
      "metadata": {},
      "source": [
        "We now have three regressors, our constant term and linear trend are included as before but we now have an additional 'Artefact' regressor whose values are scaled between zero and one. We can see that the value of the artefact fluctuates over time following the dynamics of the simulated noise source.\n\nIn this case, we know the dynamics of the artefact as we've designed our own simulation. This is unlikely to be the case for real data but we can still create meaningful regressors from potential source of artefact. This might include EOG channels recording eye movements, bad segment annotations in the dataset or head movements estimated from maxfilter. Any of these potental artefact sources can be processed and added to the design matrix using ``reg_unitmax``.\n\nLet's visualise the fitted GLM-Spectra of this model\n\n"
      ]
    },
    {
      "cell_type": "code",
      "execution_count": null,
      "metadata": {
        "collapsed": false
      },
      "outputs": [],
      "source": [
        "# Visualise all three COPEs\nplt.figure(figsize=(18,9))\nplt.subplots_adjust(wspace=0.4)\nplt.subplot(131)\nplt.plot(glmsp.f, glmsp.copes[0, :])\nplt.title(\"Intercept\\nCope-Spectrum\")\nplt.xlabel('Frequency (Hz)')\nplt.ylabel('Power')\n\nplt.subplot(132)\nplt.plot(glmsp.f, glmsp.copes[1, :])\nplt.title(\"Linear Trend\\nCope-Spectrum\")\nplt.xlabel('Frequency (Hz)')\n\nplt.subplot(133)\nplt.plot(glmsp.f, glmsp.copes[2, :])\nplt.title(\"Artefact Term\\nCope-Spectrum\")\nplt.xlabel('Frequency (Hz)')"
      ]
    },
    {
      "cell_type": "markdown",
      "metadata": {},
      "source": [
        "The Intercept term now contains a spectrum estimate without interference from the dynamic noise. In addition, the spectrum of the noise itself has been modelled by our non-zero mean regressor. The third plot shows that the noise component peaks around 30Hz.\n\nWe see this effect even more clearly when plotting up the mean term of the original model against the intercept term of the model including the noise regressor.\n\n"
      ]
    },
    {
      "cell_type": "code",
      "execution_count": null,
      "metadata": {
        "collapsed": false
      },
      "outputs": [],
      "source": [
        "cov = {'Linear': np.linspace(-1, 1, seconds*sample_rate)}\ncon = {'noise': artefact_amp}\nglmsp1 = osl_ephys.glm.glm_spectrum(yy, nperseg=sample_rate, fs=sample_rate, \n                              mode='magnitude', reg_ztrans=cov)\n\nglmsp2 = osl_ephys.glm.glm_spectrum(yy, nperseg=sample_rate, fs=sample_rate, \n                              mode='magnitude', reg_ztrans=cov, reg_unitmax=con)\n\n\nplt.figure(figsize=(18, 9))\nplt.subplot(121)\nplt.plot(glmsp1.f, glmsp1.copes[0, :])\nplt.plot(glmsp2.f, glmsp2.copes[0, :], '--')\nplt.legend(['Original Model', 'Noise Model'])\nplt.title(\"Mean/Intercept Cope-Spectrum\")\nplt.xlabel('Frequency (Hz)')\nplt.ylabel('Power')\nplt.ylim(0, 0.0055)\nplt.subplot(122)\nnorm_factor = glmsp2.design.design_matrix[:, 2].mean()\nplt.plot(glmsp2.f, glmsp2.copes[2, :]*norm_factor)\nplt.title(\"Artefact Term Cope-Spectrum\")\nplt.xlabel('Frequency (Hz)')\nplt.ylabel('Power')\nplt.ylim(0, 0.0055)"
      ]
    },
    {
      "cell_type": "markdown",
      "metadata": {},
      "source": [
        "We can see that the noise is effectively supressed in the intercept term, and that the difference between the two models is captured by the cope-spectrum of the noise regressor itself.\n\nGreat - this can be really useful for including confound regressors into our spectrum estimate in cases where we might know something about the dynamics of a noise source. In real EEG/MEG data this might come from movement, or blinking.\n\nFinally, we often want to go beyond a point estimate for an effect to get a statistical estimate that incorporates the variability around an estimate. For example, we may have a very large point estimate for our linear trend effect, but if the data are very noisy then we may not want to trust that estimate.\n\nWe can use the GLM to compute a t-statistic to do this for us.\n\n"
      ]
    },
    {
      "cell_type": "code",
      "execution_count": null,
      "metadata": {
        "collapsed": false
      },
      "outputs": [],
      "source": [
        "cov = {'Linear': np.linspace(-1, 1, seconds*sample_rate)}\nglmspec = osl_ephys.glm.glm_spectrum(yy, nperseg=sample_rate, fs=sample_rate, reg_ztrans=cov)\n\nplt.figure(figsize=(18, 9))\nplt.subplot(121)\nplt.plot(glmspec.f, glmspec.model.betas[0, :])\nplt.title(\"Mean Cope-Spectr\")\nplt.xlabel('Frequency (Hz)')\nplt.ylabel('Power')\nplt.subplot(122)\nplt.plot(glmspec.f, glmspec.model.copes[1, :])\nplt.plot(glmspec.f, np.sqrt(glmspec.model.varcopes[1, :]))\nplt.title(\"Linear Trend Cope-Spectrum\")\nplt.xlabel('Frequency (Hz)')\n\n\n# The t-statistic is then the cope divided by the square root of the varcope.\nplt.figure(figsize=(9,6))\nplt.plot(glmspec.f, glmspec.model.tstats[1, :])\nplt.title(\"Linear Trend t-spectrum\")\nplt.xlabel('Frequency (Hz)')\nplt.ylabel('t-statistic')\nplt.ylim(-20, 20)"
      ]
    },
    {
      "cell_type": "markdown",
      "metadata": {},
      "source": [
        "## OPTIONAL - Confound regression in detail\nThis is an optional section going into detail on the intuition behind confound regression. This can be a tricky concept, even for those who are already familiar with regression. Here we try to provide some insight by visualising the difference between a model with a single constant regressor, and a model with one constant regressor and one non-zero mean regressor.\n\nSo, let's dig into why this noise supression works. We'll fit three models in this section. The first is by a very simple model with a single constant regressor.\n\n"
      ]
    },
    {
      "cell_type": "code",
      "execution_count": null,
      "metadata": {
        "collapsed": false
      },
      "outputs": [],
      "source": [
        "con = {'artefact': artefact_amp}\n\n# A simple model with a single, constant regressor\nglmsp_meanonly = osl_ephys.glm.glm_spectrum(yy, nperseg=sample_rate, fs=sample_rate, \n                              mode='magnitude')\n\nplt.figure()\nfig = glmsp_meanonly.design.plot_summary()"
      ]
    },
    {
      "cell_type": "markdown",
      "metadata": {},
      "source": [
        "This first model is equivalent to computing the mean of the data. \n\nOur second model includes a covariate regressor based on the dynamic amplitude of the artefact component in the signal. This is designed to quantify the part of our data that covary with the artefact amplitude.\n\nCritcially, this regressor is z-transformed prior to fitting the model. This means that we have a zero-mean regressor. Let's take a look.\n\n"
      ]
    },
    {
      "cell_type": "code",
      "execution_count": null,
      "metadata": {
        "collapsed": false
      },
      "outputs": [],
      "source": [
        "# A two regressor model with a constant and a covariate containing the z-transformed artefact amplitude\nglmsp_artefact_ztrans = osl_ephys.glm.glm_spectrum(yy, nperseg=sample_rate, fs=sample_rate, \n                                             mode='magnitude', reg_ztrans=con)\n\nplt.figure()\nfig = glmsp_artefact_ztrans.design.plot_summary()"
      ]
    },
    {
      "cell_type": "markdown",
      "metadata": {},
      "source": [
        "This model is the standard straight line equation $y = mx + c$. \n\n- $y$ contains our data to be described - in this case a single frequency of an STFT.\n- $x$ is a predictor value that we want to use to describe variability in $y$.\n- $m$ is a gradient describing the 'slope' relationship between $x$ and $y$.\n- $c$ is the 'intercept' term that describes where the line crosses the y-axis.\n\nThis is the standard form of this equation. $x$ and $y$ are known in advance whilst the intercept and slope terms, $c$ and $m$ are estimated by the regression. In our model above, $m$ is the parametere from the 'Constant' regressor and $x$ is the parameter from the 'artefact' regressor.\n\nIn the GLM literature, this equation is often written in terms of $\\beta$ values and design matrices. In this form, our second model might look like this:\n\n$$ y = \\beta_0 \\begin{bmatrix} 1 \\\\ 1 \\\\ \\vdots \\\\ 1 \\end{bmatrix} + \\beta_1 \\begin{bmatrix} x_{1} \\\\ x_{2} \\\\ \\vdots \\\\ x_{m} \\end{bmatrix} $$\n\nThe critical difference is that all values to be estimated are consistently notated with $\\beta$ and the predictor values for all regressors are made explicit. Here, the intercept `c` is $\\beta_0$ and `x` is $\\beta_1$ and the two vectors are the two columns of our design matrix.\n\nIn the second model, the vector of predictors had been z-transformed to be zero-mean. For our final model we'll instead use a unit-max scaling to create a non-zero mean second regressor.\n\n\n"
      ]
    },
    {
      "cell_type": "code",
      "execution_count": null,
      "metadata": {
        "collapsed": false
      },
      "outputs": [],
      "source": [
        "# A two regressor model with a constant and a covariate containing the unit-max scaled artefact amplitude\nglmsp_artefact_unitmax = osl_ephys.glm.glm_spectrum(yy, nperseg=sample_rate, fs=sample_rate, \n                              mode='magnitude', reg_unitmax=con)\n\nplt.figure()\nfig = glmsp_artefact_unitmax.design.plot_summary()"
      ]
    },
    {
      "cell_type": "markdown",
      "metadata": {},
      "source": [
        "This design is very similar to our second, only the second column has changed. All the maths and interpretations above still hold.\n\nHowever, ths change in scaling makes an important difference to the interpretation of the fitted model parameters. Most importantly, the interpretation of $\\beta_0$ as the intercept term is critically dependant on the scaling used in the second column.\n\n:*note*: Though all models contain a constant regressor, these are not doing the same thing. We must remember that the interpretation of each regressor changes when we add new ones. The interpretation of the terms in our model can only be created by considering the model as a whole.\n\nLet's take a closer look at the Mean term fitted by the first model. This computes a simple average across the data observations that weights each observation equally. \n\nLet\u2019s look at single frequency, and visualise how the power at that frequency varies over time as a histogram, with the mean power estimate annotated by a black vertical line.\n\n"
      ]
    },
    {
      "cell_type": "code",
      "execution_count": null,
      "metadata": {
        "collapsed": false
      },
      "outputs": [],
      "source": [
        "freq_idx = 45\n\n# Mean from simple model\nmean = glmsp_meanonly.model.betas[0, freq_idx]\nprint('Estimated mean : {}'.format(mean))\n\nplt.figure(figsize=(9, 9))\nh = plt.hist(glmsp_meanonly.data.data[:, freq_idx], 32)\nplt.vlines(mean, 0, 40, 'k')\nplt.xlabel('Magnitude Estimate')\nplt.ylabel('Num Time Segments')\nplt.legend(['Mean', 'Data Histogram'], frameon=False)\nplt.title('Single Mean-term', fontsize=22)"
      ]
    },
    {
      "cell_type": "markdown",
      "metadata": {},
      "source": [
        "We can see that the mean is ``0.000832``.\n\nIn contrast, the model with the added artefact term computes an intercept instead of a mean. We can visualise this by plotting a scatter graph with the value of the noise regressor on the x-axis and the data observations on the y-axis. These y-axis data are the same as the values used in the histogram when visualising the simple model.\n\nThe artefact-regressor models a slope effect describing the extent to which the data observations increase with our predictor. The intercept models the data points where this line crosses zero - in other words, it models the data where the noise predictor has a value of zero.\n\nLet's take a look.\n\n"
      ]
    },
    {
      "cell_type": "code",
      "execution_count": null,
      "metadata": {
        "collapsed": false
      },
      "outputs": [],
      "source": [
        "freq_idx = 45\n\n# Intercept - 'c' or 'beta_0'\nbeta0 = glmsp_artefact_ztrans.model.betas[0, freq_idx]\n# Slope - 'm' or 'beta_1'\nbeta1 = glmsp_artefact_ztrans.model.betas[1, freq_idx]\nprint('Estimated intercept : {}'.format(beta0))\n\n# Visualise effects\nplt.figure(figsize=(9,9));\n\n# Scatter plot\nplt.plot(glmsp_artefact_ztrans.design.design_matrix[:, 1], glmsp_artefact_ztrans.data.data[:, freq_idx], 'o')\n\n# Intercept\nplt.plot([-0.1, 0.1], [beta0, beta0], 'k--', lw=4)\n\n# Slope effect\nx_pred = beta0 + np.linspace(-1.5, 1.5)*beta1\nplt.plot(np.linspace(-1.5, 1.5), x_pred, lw=4)\n\nplt.legend(['Data observations', 'Intercept Term', 'Noise Effect'], frameon=False)\nplt.xlabel('Artefact regressor value')\nplt.ylabel('Magnitude Estimate')\nplt.title('Constant + ztrans(artefact)', fontsize=22)"
      ]
    },
    {
      "cell_type": "markdown",
      "metadata": {},
      "source": [
        "Now we can clearly see the straight line equation in action.\n\nEach dot of the scatter plot is from a particular time-segment with the magnitude of our frequency-of-interest in the y-axis and the 'artefact' regressor value in the x-axis.\n\nOur fitted intercept, where the artefact regressor is zero, is shown in a black line and the full fitted straight line in orange. In this case, our estimate of the intercept is identical to the simple mean term from our first model.\n\nThis happens as our artefact regressor has a mean value of zero, which acts to centre our data exactly around its mean point. What happens when we don't have a zero-mean regressor? Let's take a look at the final model.\n\n"
      ]
    },
    {
      "cell_type": "code",
      "execution_count": null,
      "metadata": {
        "collapsed": false
      },
      "outputs": [],
      "source": [
        "freq_idx = 45\n\n# Intercept - 'c' or 'beta_0'\nbeta0 = glmsp_artefact_unitmax.model.betas[0, freq_idx]\n# Slope - 'm' or 'beta_1'\nbeta1 = glmsp_artefact_unitmax.model.betas[1, freq_idx]\nprint('Estimated intercept : {}'.format(beta0))\n\n# Visualise effects\nplt.figure(figsize=(9,9));\n\n# Scatter plot\nplt.plot(glmsp_artefact_unitmax.design.design_matrix[:, 1], glmsp_artefact_unitmax.data.data[:, freq_idx], 'o')\n\n# Intercept\nplt.plot([-0.1, 0.1], [beta0, beta0], 'k--', lw=4)\n\n# Slope effect\nx_pred = beta0 + np.linspace(0, 1)*beta1\nplt.plot(np.linspace(0, 1), x_pred, lw=4)\n\nplt.legend(['Data observations', 'Intercept Term', 'Noise Effect'], frameon=False)\nplt.xlabel('Artefact regressor value')\nplt.ylabel('Magnitude Estimate')\nplt.title('Constant + unitmax(artefact)', fontsize=22)"
      ]
    },
    {
      "cell_type": "markdown",
      "metadata": {},
      "source": [
        "Only the scaling of our predictor values has changed, but you can quickly see that this has a large effect on the value of the intercept!\n\nThe x-axis now crosses zero only where the value of our artefact regressor is equal to zero rather than in the middle of the data-distribution. As a result the intercept is much smaller that what we estimated with our first two models. \n\n\nWe can double check this by combining our visualisations.\n\n\n\n"
      ]
    },
    {
      "cell_type": "code",
      "execution_count": null,
      "metadata": {
        "collapsed": false
      },
      "outputs": [],
      "source": [
        "# Visualise effects\nplt.figure(figsize=(18,6));\nplt.subplots_adjust(wspace=0.4)\n\nplt.subplot(131)\nh = plt.hist(glmsp_meanonly.data.data[:, freq_idx], 32, orientation='horizontal')\nplt.hlines(mean, 0, 40, 'k')\nplt.ylabel('Magnitude Estimate')\nplt.xlabel('Num Time Segments')\nplt.legend(['Mean', 'Data Histogram'], frameon=False)\nplt.title('Single Mean-term', fontsize=16)\n\n# ----------------------------------------------\n\nplt.subplot(132)\n# Intercept - 'c' or 'beta_0'\nbeta0 = glmsp_artefact_ztrans.model.betas[0, freq_idx]\n# Slope - 'm' or 'beta_1'\nbeta1 = glmsp_artefact_ztrans.model.betas[1, freq_idx]\n\n# Scatter plot\nplt.plot(glmsp_artefact_ztrans.design.design_matrix[:, 1], glmsp_artefact_ztrans.data.data[:, freq_idx], 'o')\n\n# Intercept\nplt.plot([-0.1, 0.1], [beta0, beta0], 'k--', lw=4)\n\n# Slope effect\nx_pred = beta0 + np.linspace(-1.5, 1.5)*beta1\nplt.plot(np.linspace(-1.5, 1.5), x_pred, lw=4)\n\nplt.legend(['Data observations', 'Intercept Term', 'Noise Effect'], frameon=False)\nplt.xlabel('Artefact regressor value')\nplt.ylabel('Magnitude Estimate')\nplt.title('Constant + ztrans(artefact)', fontsize=16)\n\n# ----------------------------------------------\n\nplt.subplot(133)\n# Intercept - 'c' or 'beta_0'\nbeta0 = glmsp_artefact_unitmax.model.betas[0, freq_idx]\n# Slope - 'm' or 'beta_1'\nbeta1 = glmsp_artefact_unitmax.model.betas[1, freq_idx]\n\n# Scatter plot\nplt.plot(glmsp_artefact_unitmax.design.design_matrix[:, 1], glmsp_artefact_unitmax.data.data[:, freq_idx], 'o')\n\n# Intercept\nplt.plot([-0.1, 0.1], [beta0, beta0], 'k--', lw=4)\n\n# Slope effect\nx_pred = beta0 + np.linspace(0, 1)*beta1\nplt.plot(np.linspace(0, 1), x_pred, lw=4)\n\nplt.legend(['Data observations', 'Intercept Term', 'Noise Effect'], frameon=False)\nplt.xlabel('Artefact regressor value')\nplt.ylabel('Magnitude Estimate')\nplt.title('Constant + unitmax(artefact)', fontsize=16)"
      ]
    },
    {
      "cell_type": "markdown",
      "metadata": {},
      "source": [
        "Our three panels share the same y-axis scale. Whilst the intercept of the first two models describes the centre of the whole distribution. In contrast, the inclusion of the non-zero mean covariate in the third model changes this drastically. It's intercept models the centre of the data distribution where the artefact covariate is zero. As a result the intercept estimate is much smaller than the other two.\n\n## Futher reading\n\n  Quinn, A. J., Atkinson, L., Gohil, C., Kohl, O., Pitt, J., Zich, C., Nobre, A. C., & Woolrich, M. W. (2022). The GLM-Spectrum: A multilevel framework for spectrum analysis with covariate and confound modelling. Cold Spring Harbor Laboratory. https://doi.org/10.1101/2022.11.14.516449 \n\n"
      ]
    }
  ],
  "metadata": {
    "kernelspec": {
      "display_name": "Python 3",
      "language": "python",
      "name": "python3"
    },
    "language_info": {
      "codemirror_mode": {
        "name": "ipython",
        "version": 3
      },
      "file_extension": ".py",
      "mimetype": "text/x-python",
      "name": "python",
      "nbconvert_exporter": "python",
      "pygments_lexer": "ipython3",
      "version": "3.8.16"
    }
  },
  "nbformat": 4,
  "nbformat_minor": 0
}