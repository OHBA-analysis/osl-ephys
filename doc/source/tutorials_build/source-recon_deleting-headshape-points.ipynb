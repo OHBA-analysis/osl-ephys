{
  "cells": [
    {
      "cell_type": "markdown",
      "metadata": {},
      "source": [
        "\n# Deleting Headshape Points\n\nOne cause of bad co-registrations can be due to the presence of  misleading or erroneous headshape points. These can be caused by errors in the recording of the headshape points when the experimenter was using the polhemus system.\n\nIn this notebook, we provide a custom function that can be used to delete the polhemus-derived headshape points.\n\nLet's first define the function.\n"
      ]
    },
    {
      "cell_type": "code",
      "execution_count": null,
      "metadata": {
        "collapsed": false
      },
      "outputs": [],
      "source": [
        "import os.path as op\nimport sys\nfrom osl_ephys import utils, source_recon\nimport numpy as np\nfrom osl_ephys.source_recon.rhino.coreg import get_coreg_filenames\nimport matplotlib.pyplot as plt\n\nfsl_dir = '/Users/matsvanes/fsl'\nsource_recon.setup_fsl(fsl_dir)\n\ndef delete_headshape_points(recon_dir=None, subject=None, polhemus_headshape_file=None):\n\n    '''\n    Shows an interactive figure of the polhemus derived headshape\n    points in polhemus space.\n    Points can be clicked on to delete them.\n    The figure should be closed upon completion, at which point\n    there is the option to save the deletions.\n\n    Parameters\n    ----------\n    subjects_dir : string\n        Directory containing the subject directories, in the \n        directory structure used by RHINO:\n    subject : string\n        Subject directory name, in the directory structure used \n        by RHINO:\n    polhemus_headshape_file: string\n        Full file path to get the polhemus_headshape_file from, \n        and to save any changes to. Note that this is an npy file\n        containing the (3 x num_headshapepoints) numpy array of \n        headshape points.\n        \n    Notes\n    -----\n    We can call this in two different ways, either:\n\n    1) Specify the subjects_dir AND the subject directory in the \n    directory structure used by RHINO:\n    \n    delete_headshape_points(recon_dir=recon_dir, subject=subject)\n    \n    or:\n    \n    2) Specify the full path to the .npy file containing the (3 x num_headshapepoints) \n    numpy array of headshape points:\n    \n    delete_headshape_points(polhemus_headshape_file=polhemus_headshape_file)\n    '''\n\n    if recon_dir is not None and subject is not None:\n        coreg_filenames = get_coreg_filenames(recon_dir, subject)\n        polhemus_headshape_file = coreg_filenames[\"polhemus_headshape_file\"]\n    elif polhemus_headshape_file is not None:\n        polhemus_headshape_file = polhemus_headshape_file\n    else:\n        ValueError('Invalid inputs. See function\\'s documentation.')\n      \n    polhemus_headshape_polhemus = np.loadtxt(polhemus_headshape_file)\n\n    print(\"Num headshape points={}\".format(polhemus_headshape_polhemus.shape[1]))\n    print('Click on points to delete them.')\n    print('Press \"w\" to write changes to the file')\n    sys.stdout.flush()\n\n    def scatter_headshapes(ax, x, y, z):\n        # Polhemus-derived headshape points\n        color, scale, alpha, marker = \"red\", 8, 0.7, \"o\"\n        ax.scatter(x,y,z,\n            color=color,\n            marker=marker,\n            s=scale,\n            alpha=alpha,\n            picker=5,\n        )\n        plt.draw()\n\n    x=list(polhemus_headshape_polhemus[0,:])\n    y=list(polhemus_headshape_polhemus[1,:])\n    z=list(polhemus_headshape_polhemus[2,:])\n\n    # Create scatter plot\n    fig = plt.figure()\n    ax = plt.axes(projection=\"3d\")\n    scatter_headshapes(ax, x, y, z)\n\n    # Define function to handle click events\n    def on_click(event):\n        # Get index of clicked point\n        ind = event.ind\n        # Remove selected points from data arrays\n        print('Deleted: {}, {}, {}'.format(x[ind[0]], y[ind[0]], z[ind[0]]))\n        sys.stdout.flush()\n        \n        x.pop(ind[0])\n        y.pop(ind[0])\n        z.pop(ind[0])\n        # Update scatter plot\n        ax.cla()\n        scatter_headshapes(ax, x, y, z)\n\n    def on_press(event):\n\n        if event.key == 'w':\n            polhemus_headshape_polhemus_new = np.array([x, y, z])\n            print(\"Num headshape points remaining={}\".format(polhemus_headshape_polhemus_new.shape[1]))\n            np.savetxt(coreg_filenames[\"polhemus_headshape_file\"], polhemus_headshape_polhemus_new)\n            print('Changes saved to file {}'.format(coreg_filenames[\"polhemus_headshape_file\"]))\n                    \n    # Connect click event to function\n    fig.canvas.mpl_connect('pick_event', on_click)\n    fig.canvas.mpl_connect('key_press_event', on_press)\n\n    plt.show()"
      ]
    },
    {
      "cell_type": "markdown",
      "metadata": {},
      "source": [
        "Typically, you would use this function after running ``source_recon.rhino.coreg`` (either directly, or via the batch API),\n and after diagnosing a bad coreg (again, either directly using \n ``source_recon.rhino.coreg_display`` , or via the html report generated by using the batch API).\n\n To put ourselves in this situation we will first download the appropriate data and copy the headshape points to the appropriate paths in the assumed RHINO directory structure:\n\n\n Download files\n``!pip install osfclient``\n\n"
      ]
    },
    {
      "cell_type": "code",
      "execution_count": null,
      "metadata": {
        "collapsed": false
      },
      "outputs": [],
      "source": [
        "import os\nimport os.path as op\nfrom osl_ephys import utils\n\ndef get_data(name):\n    print('Data will be in directory {}'.format(os.getcwd()))\n    \"\"\"Download a dataset from OSF.\"\"\"\n    if os.path.exists(f\"{name}\"):\n        return f\"{name} already downloaded. Skipping..\"\n    os.system(f\"osf -p zxb6c fetch SourceRecon/data/{name}.zip\")\n    os.system(f\"unzip -o {name}.zip\")\n    os.remove(f\"{name}.zip\")\n    return f\"Data downloaded to: {name}\"\n\n# Download the dataset\nget_data(\"notts_2subjects\")\n\n## Setup file names\ndata_dir = './notts_2subjects'\nrecon_dir = './notts_2subjects/recon'\n\nsubject = '{subject}'\nfif_files_path = op.join(data_dir, subject, subject + '_task-resteyesopen_meg_preproc_raw.fif')    \nfif_files = utils.Study(fif_files_path)\nsubjects = fif_files.fields['subject']\nfif_files = fif_files.get()\n\n## Copy polhemus files\nimport numpy as np\n\ndef copy_polhemus_files(recon_dir, subject, preproc_file, smri_file, logger):\n    polhemus_headshape = np.loadtxt(op.join(data_dir, subject, 'polhemus/polhemus_headshape.txt'))\n    polhemus_nasion = np.loadtxt(op.join(data_dir, subject, 'polhemus/polhemus_nasion.txt'))\n    polhemus_rpa = np.loadtxt(op.join(data_dir, subject, 'polhemus/polhemus_rpa.txt'))\n    polhemus_lpa = np.loadtxt(op.join(data_dir, subject, 'polhemus/polhemus_lpa.txt'))\n    \n    # \u00a0Get coreg filenames\n    filenames = source_recon.rhino.get_coreg_filenames(recon_dir, subject)\n\n    # Save\n    np.savetxt(filenames[\"polhemus_nasion_file\"], polhemus_nasion)\n    np.savetxt(filenames[\"polhemus_rpa_file\"], polhemus_rpa)\n    np.savetxt(filenames[\"polhemus_lpa_file\"], polhemus_lpa)\n    np.savetxt(filenames[\"polhemus_headshape_file\"], polhemus_headshape)\n\ncopy_polhemus_files(recon_dir, subjects[0], [], [], [])\n\nsub1_polhemus_nasion = op.join(recon_dir, subjects[0], 'rhino/coreg/polhemus_nasion.txt')\nprint('E.g., the coordinates for the nasion for subject {} in Polhemus space are \\n'.format(subjects[0]))\nos.system('more {}'.format(sub1_polhemus_nasion))"
      ]
    },
    {
      "cell_type": "markdown",
      "metadata": {},
      "source": [
        "We can now call the *delete_headshape_points* function we have defined above. Note that we can call this in two different ways, either:\n\n1) Specify the subjects_dir AND the subject directory, in the directory structure used by RHINO:\n``delete_headshape_points(recon_dir=recon_dir, subject=subject)``\n\n2) Specify the full path to the .npy file containing the (3 x num_headshapepoints) numpy array of headshape points:\n``delete_headshape_points(polhemus_headshape_file=polhemus_headshape_file)``\n\nHere, we want to use the first option. Let's now call the function we defined above:\n\n"
      ]
    },
    {
      "cell_type": "code",
      "execution_count": null,
      "metadata": {
        "collapsed": false
      },
      "outputs": [],
      "source": [
        "delete_headshape_points(recon_dir, subjects[0])"
      ]
    },
    {
      "cell_type": "markdown",
      "metadata": {},
      "source": [
        "This brings up an interactive figure of the polhemus derived headshape points in polhemus space, as a scatter plot.\n\n- The plot can be rotated (avoid clicking near an actual headshape point when doing this).\n- Headshape points can be clicked on to delete them.\n- The figure should be closed upon completion, at which point there is the option to save the changes.\n\nGo ahead and delete some headshape points, after which close the figure, and then choose to save the file.\nSince we have worked on the headshape points file inside the RHINO directory structure, the saved file will be the one used by any subsequent coregistrations, e.g., when we call:\n\n\n"
      ]
    },
    {
      "cell_type": "code",
      "execution_count": null,
      "metadata": {
        "collapsed": false
      },
      "outputs": [],
      "source": [
        "source_recon.rhino.coreg(\n    fif_files[0],\n    recon_dir,\n    subjects[0],\n    use_headshape=True,    \n    use_nose=True,\n)"
      ]
    }
  ],
  "metadata": {
    "kernelspec": {
      "display_name": "Python 3",
      "language": "python",
      "name": "python3"
    },
    "language_info": {
      "codemirror_mode": {
        "name": "ipython",
        "version": 3
      },
      "file_extension": ".py",
      "mimetype": "text/x-python",
      "name": "python",
      "nbconvert_exporter": "python",
      "pygments_lexer": "ipython3",
      "version": "3.8.16"
    }
  },
  "nbformat": 4,
  "nbformat_minor": 0
}